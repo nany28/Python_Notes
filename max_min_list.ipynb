{
 "cells": [
  {
   "cell_type": "markdown",
   "id": "4e44661f",
   "metadata": {},
   "source": [
    "#### Generate a list of random 20 values between 10 and 50 "
   ]
  },
  {
   "cell_type": "code",
   "execution_count": 1,
   "id": "f4f2ab70",
   "metadata": {},
   "outputs": [
    {
     "name": "stdout",
     "output_type": "stream",
     "text": [
      "[31, 34, 14, 40, 23, 41, 21, 12, 46, 44, 30, 26, 48, 36, 25, 37, 24, 10, 15, 43]\n"
     ]
    }
   ],
   "source": [
    "import random\n",
    "list1 = random.sample(range(10, 50), 20)\n",
    "print(list1)"
   ]
  },
  {
   "cell_type": "markdown",
   "id": "20bac714",
   "metadata": {},
   "source": [
    "#### Find maximum and minimum values\n",
    "Use in-built functions, max() and min() for the maximum and minimum\n"
   ]
  },
  {
   "cell_type": "code",
   "execution_count": 2,
   "id": "93676951",
   "metadata": {},
   "outputs": [
    {
     "name": "stdout",
     "output_type": "stream",
     "text": [
      "Maximum of the list is 48\n",
      "Minimum of the list is 10\n"
     ]
    }
   ],
   "source": [
    "print('Maximum of the list is',max(list1))\n",
    "print('Minimum of the list is',min(list1))"
   ]
  },
  {
   "cell_type": "markdown",
   "id": "16a5ab75",
   "metadata": {},
   "source": [
    "#### Find average of the values in the list\n",
    "Use in-built functions, sum() and len()"
   ]
  },
  {
   "cell_type": "code",
   "execution_count": 3,
   "id": "7a868b63",
   "metadata": {},
   "outputs": [
    {
     "name": "stdout",
     "output_type": "stream",
     "text": [
      "Average of the list is 30.0\n"
     ]
    }
   ],
   "source": [
    "average = sum(list1)/len(list1)\n",
    "print('Average of the list is',average)"
   ]
  },
  {
   "cell_type": "markdown",
   "id": "09eb4505",
   "metadata": {},
   "source": [
    "Note: As you generate random values, the values in the list keep change\n",
    "      everytime you run, so the output"
   ]
  }
 ],
 "metadata": {
  "kernelspec": {
   "display_name": "Python 3 (ipykernel)",
   "language": "python",
   "name": "python3"
  },
  "language_info": {
   "codemirror_mode": {
    "name": "ipython",
    "version": 3
   },
   "file_extension": ".py",
   "mimetype": "text/x-python",
   "name": "python",
   "nbconvert_exporter": "python",
   "pygments_lexer": "ipython3",
   "version": "3.9.7"
  }
 },
 "nbformat": 4,
 "nbformat_minor": 5
}
