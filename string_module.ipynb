{
 "cells": [
  {
   "cell_type": "markdown",
   "id": "5559587c",
   "metadata": {},
   "source": [
    "#### Generate a string with letters using python string module"
   ]
  },
  {
   "cell_type": "code",
   "execution_count": 1,
   "id": "a9b578fa",
   "metadata": {},
   "outputs": [
    {
     "name": "stdout",
     "output_type": "stream",
     "text": [
      "abcdefghijklmnopqrstuvwxyzABCDEFGHIJKLMNOPQRSTUVWXYZ\n"
     ]
    }
   ],
   "source": [
    "import random\n",
    "import string\n",
    "letters = string.ascii_letters\n",
    "print(letters)"
   ]
  },
  {
   "cell_type": "markdown",
   "id": "814784fb",
   "metadata": {},
   "source": [
    "#### Convert the above string with upper case lettes and remove duplicates"
   ]
  },
  {
   "cell_type": "code",
   "execution_count": 2,
   "id": "9a6c8a18",
   "metadata": {},
   "outputs": [
    {
     "name": "stdout",
     "output_type": "stream",
     "text": [
      "ABCDEFGHIJKLMNOPQRSTUVWXYZ\n"
     ]
    }
   ],
   "source": [
    "letters = letters.upper()\n",
    "no_repeat = ''\n",
    "for lett in letters:\n",
    "    if not lett in no_repeat:\n",
    "        no_repeat +=lett\n",
    "\n",
    "print(no_repeat)"
   ]
  },
  {
   "cell_type": "markdown",
   "id": "571b226b",
   "metadata": {},
   "source": [
    "#### Concatenate the above string with a string with digits"
   ]
  },
  {
   "cell_type": "code",
   "execution_count": 3,
   "id": "3cd2e644",
   "metadata": {},
   "outputs": [
    {
     "name": "stdout",
     "output_type": "stream",
     "text": [
      "ABCDEFGHIJKLMNOPQRSTUVWXYZ0123456789\n"
     ]
    }
   ],
   "source": [
    "num_lett = no_repeat + string.digits\n",
    "print(num_lett)"
   ]
  },
  {
   "cell_type": "markdown",
   "id": "ce9012b6",
   "metadata": {},
   "source": [
    "#### Genrate a random string using the above string with the same length"
   ]
  },
  {
   "cell_type": "code",
   "execution_count": 4,
   "id": "ebb89911",
   "metadata": {},
   "outputs": [
    {
     "name": "stdout",
     "output_type": "stream",
     "text": [
      "V0IU3ZA889OFB4OGSY2S8JS527LQT2UEPYWM\n"
     ]
    }
   ],
   "source": [
    "print ( ''.join(random.choice(num_lett) for i in range(len(num_lett))) ) "
   ]
  }
 ],
 "metadata": {
  "kernelspec": {
   "display_name": "Python 3 (ipykernel)",
   "language": "python",
   "name": "python3"
  },
  "language_info": {
   "codemirror_mode": {
    "name": "ipython",
    "version": 3
   },
   "file_extension": ".py",
   "mimetype": "text/x-python",
   "name": "python",
   "nbconvert_exporter": "python",
   "pygments_lexer": "ipython3",
   "version": "3.9.7"
  }
 },
 "nbformat": 4,
 "nbformat_minor": 5
}
