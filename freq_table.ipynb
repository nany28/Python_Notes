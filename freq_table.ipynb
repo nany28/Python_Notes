{
 "cells": [
  {
   "cell_type": "code",
   "execution_count": 5,
   "id": "76a66f7e",
   "metadata": {},
   "outputs": [
    {
     "name": "stdout",
     "output_type": "stream",
     "text": [
      "{'a': 2, 'b': 1, 'c': 4, 'd': 3}\n"
     ]
    }
   ],
   "source": [
    "letters = ['a','b','c','d','c','a','d', 'c','c','d']\n",
    "numbers = [1,2,4,3,5,1,4,6,2,5,1,2,4,3,2,5,2,5]\n",
    "def freq_table(list1):\n",
    "    dict1={}\n",
    "    for letter in list1:\n",
    "        if letter in dict1:\n",
    "            dict1[letter] +=1\n",
    "        else:\n",
    "            dict1[letter] = 1\n",
    "    return dict1\n",
    "\n",
    "\n",
    "print(freq_table(letters))\n",
    "\n"
   ]
  },
  {
   "cell_type": "code",
   "execution_count": 6,
   "id": "812abad0",
   "metadata": {},
   "outputs": [
    {
     "name": "stdout",
     "output_type": "stream",
     "text": [
      "{1: 3, 2: 5, 4: 3, 3: 2, 5: 4, 6: 1}\n"
     ]
    }
   ],
   "source": [
    "print(freq_table(numbers))"
   ]
  }
 ],
 "metadata": {
  "kernelspec": {
   "display_name": "Python 3 (ipykernel)",
   "language": "python",
   "name": "python3"
  },
  "language_info": {
   "codemirror_mode": {
    "name": "ipython",
    "version": 3
   },
   "file_extension": ".py",
   "mimetype": "text/x-python",
   "name": "python",
   "nbconvert_exporter": "python",
   "pygments_lexer": "ipython3",
   "version": "3.9.7"
  }
 },
 "nbformat": 4,
 "nbformat_minor": 5
}
