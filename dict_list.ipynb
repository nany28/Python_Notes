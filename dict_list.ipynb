{
 "cells": [
  {
   "cell_type": "markdown",
   "id": "a68e37bb",
   "metadata": {},
   "source": [
    "### Converting a dictionary into list"
   ]
  },
  {
   "cell_type": "markdown",
   "id": "d8f067f4",
   "metadata": {},
   "source": [
    "#### By using keys and values from dictionary"
   ]
  },
  {
   "cell_type": "markdown",
   "id": "cba64074",
   "metadata": {},
   "source": [
    "##### Method 1"
   ]
  },
  {
   "cell_type": "code",
   "execution_count": 1,
   "id": "9079a7d4",
   "metadata": {},
   "outputs": [
    {
     "name": "stdout",
     "output_type": "stream",
     "text": [
      "['ones', 'twos', 'threes', 10, 20, 30]\n"
     ]
    }
   ],
   "source": [
    "dict1 = {'ones':10,'twos':20, 'threes':30}\n",
    "x= list(dict1)\n",
    "y= list(dict1.values())\n",
    "print(x+y)"
   ]
  },
  {
   "cell_type": "markdown",
   "id": "14508401",
   "metadata": {},
   "source": [
    "##### Method 2"
   ]
  },
  {
   "cell_type": "code",
   "execution_count": 2,
   "id": "7d77a044",
   "metadata": {},
   "outputs": [
    {
     "name": "stdout",
     "output_type": "stream",
     "text": [
      "['ones', 10, 'twos', 20, 'threes', 30]\n"
     ]
    }
   ],
   "source": [
    "list1 = []\n",
    "for key in dict1:\n",
    "    list1.append(key)\n",
    "    list1.append(dict1[key])\n",
    "\n",
    "print(list1)"
   ]
  }
 ],
 "metadata": {
  "kernelspec": {
   "display_name": "Python 3 (ipykernel)",
   "language": "python",
   "name": "python3"
  },
  "language_info": {
   "codemirror_mode": {
    "name": "ipython",
    "version": 3
   },
   "file_extension": ".py",
   "mimetype": "text/x-python",
   "name": "python",
   "nbconvert_exporter": "python",
   "pygments_lexer": "ipython3",
   "version": "3.9.7"
  }
 },
 "nbformat": 4,
 "nbformat_minor": 5
}
