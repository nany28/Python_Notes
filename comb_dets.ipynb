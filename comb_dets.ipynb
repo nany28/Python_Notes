{
 "cells": [
  {
   "cell_type": "code",
   "execution_count": 46,
   "id": "09460108",
   "metadata": {},
   "outputs": [
    {
     "name": "stdout",
     "output_type": "stream",
     "text": [
      "[[1023 1535    1]\n",
      " [1023 1791    1]\n",
      " [1023 1919    1]\n",
      " [1023 1983    1]\n",
      " [1023 2015    1]\n",
      " [1023 2031    1]\n",
      " [1023 2039    1]\n",
      " [1023 2043    1]\n",
      " [1535 1791    1]\n",
      " [1535 1919    1]\n",
      " [1535 1983    1]\n",
      " [1535 2015    1]\n",
      " [1535 2031    1]\n",
      " [1535 2039    1]\n",
      " [1535 2043    1]\n",
      " [1791 1919    1]\n",
      " [1791 1983    1]\n",
      " [1791 2015    1]\n",
      " [1791 2031    1]\n",
      " [1791 2039    1]\n",
      " [1791 2043    1]\n",
      " [1919 1983    1]\n",
      " [1919 2015    1]\n",
      " [1919 2031    1]\n",
      " [1919 2039    1]\n",
      " [1919 2043    1]\n",
      " [1983 2015    1]\n",
      " [1983 2031    1]\n",
      " [1983 2039    1]\n",
      " [1983 2043    1]\n",
      " [2015 2031    1]\n",
      " [2015 2039    1]\n",
      " [2015 2043    1]\n",
      " [2031 2039    1]\n",
      " [2031 2043    1]\n",
      " [2039 2043    1]]\n"
     ]
    }
   ],
   "source": [
    "from itertools import combinations\n",
    "import numpy as np\n",
    "comb_list = combinations([1023, 1535, 1791,1919,1983,2015,2031,2039], 2)\n",
    "x = np.array(list(comb_list))\n",
    "y = np.ones((len(x),1))\n",
    "z = np.hstack((x,y))\n",
    "z = z.astype('int64')\n",
    "print(z)\n",
    "np.savetxt(\"z_matrix.csv\", z, delimiter=',', comments=\"\")\n"
   ]
  },
  {
   "cell_type": "code",
   "execution_count": null,
   "id": "38a98009",
   "metadata": {},
   "outputs": [],
   "source": []
  }
 ],
 "metadata": {
  "kernelspec": {
   "display_name": "Python 3 (ipykernel)",
   "language": "python",
   "name": "python3"
  },
  "language_info": {
   "codemirror_mode": {
    "name": "ipython",
    "version": 3
   },
   "file_extension": ".py",
   "mimetype": "text/x-python",
   "name": "python",
   "nbconvert_exporter": "python",
   "pygments_lexer": "ipython3",
   "version": "3.9.7"
  }
 },
 "nbformat": 4,
 "nbformat_minor": 5
}
