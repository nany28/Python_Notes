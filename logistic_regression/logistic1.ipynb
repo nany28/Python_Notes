{
 "cells": [
  {
   "cell_type": "markdown",
   "id": "b873281a",
   "metadata": {},
   "source": [
    "## Accuracy, Sensitivity and Specificity"
   ]
  },
  {
   "cell_type": "code",
   "execution_count": 1,
   "id": "f64f4ef2",
   "metadata": {},
   "outputs": [],
   "source": [
    "import numpy as np\n",
    "import pandas as pd\n",
    "import matplotlib.pyplot as plt\n",
    "from sklearn.linear_model import LogisticRegression\n"
   ]
  },
  {
   "cell_type": "code",
   "execution_count": 2,
   "id": "8b7a9455",
   "metadata": {},
   "outputs": [
    {
     "data": {
      "text/html": [
       "<div>\n",
       "<style scoped>\n",
       "    .dataframe tbody tr th:only-of-type {\n",
       "        vertical-align: middle;\n",
       "    }\n",
       "\n",
       "    .dataframe tbody tr th {\n",
       "        vertical-align: top;\n",
       "    }\n",
       "\n",
       "    .dataframe thead th {\n",
       "        text-align: right;\n",
       "    }\n",
       "</style>\n",
       "<table border=\"1\" class=\"dataframe\">\n",
       "  <thead>\n",
       "    <tr style=\"text-align: right;\">\n",
       "      <th></th>\n",
       "      <th>admit</th>\n",
       "      <th>gpa</th>\n",
       "      <th>gre</th>\n",
       "    </tr>\n",
       "  </thead>\n",
       "  <tbody>\n",
       "    <tr>\n",
       "      <th>0</th>\n",
       "      <td>0</td>\n",
       "      <td>3.177277</td>\n",
       "      <td>594.102992</td>\n",
       "    </tr>\n",
       "    <tr>\n",
       "      <th>1</th>\n",
       "      <td>0</td>\n",
       "      <td>3.412655</td>\n",
       "      <td>631.528607</td>\n",
       "    </tr>\n",
       "    <tr>\n",
       "      <th>2</th>\n",
       "      <td>0</td>\n",
       "      <td>2.728097</td>\n",
       "      <td>553.714399</td>\n",
       "    </tr>\n",
       "    <tr>\n",
       "      <th>3</th>\n",
       "      <td>0</td>\n",
       "      <td>3.093559</td>\n",
       "      <td>551.089985</td>\n",
       "    </tr>\n",
       "    <tr>\n",
       "      <th>4</th>\n",
       "      <td>0</td>\n",
       "      <td>3.141923</td>\n",
       "      <td>537.184894</td>\n",
       "    </tr>\n",
       "  </tbody>\n",
       "</table>\n",
       "</div>"
      ],
      "text/plain": [
       "   admit       gpa         gre\n",
       "0      0  3.177277  594.102992\n",
       "1      0  3.412655  631.528607\n",
       "2      0  2.728097  553.714399\n",
       "3      0  3.093559  551.089985\n",
       "4      0  3.141923  537.184894"
      ]
     },
     "execution_count": 2,
     "metadata": {},
     "output_type": "execute_result"
    }
   ],
   "source": [
    "df = pd.read_csv('admissions.csv')\n",
    "df.head()"
   ]
  },
  {
   "cell_type": "code",
   "execution_count": 3,
   "id": "d935a36d",
   "metadata": {},
   "outputs": [
    {
     "data": {
      "text/plain": [
       "<matplotlib.collections.PathCollection at 0x11a33e0a0>"
      ]
     },
     "execution_count": 3,
     "metadata": {},
     "output_type": "execute_result"
    },
    {
     "data": {
      "image/png": "[encoded data removed]",
      "text/plain": [
       "<Figure size 432x288 with 1 Axes>"
      ]
     },
     "metadata": {
      "needs_background": "light"
     },
     "output_type": "display_data"
    }
   ],
   "source": [
    "plt.scatter(df['gpa'],df['admit'])\n",
    "            # plt.scatter(admissions['gpa'],admissions['admit'])"
   ]
  },
  {
   "cell_type": "code",
   "execution_count": 4,
   "id": "ad89a44b",
   "metadata": {},
   "outputs": [
    {
     "data": {
      "text/plain": [
       "LogisticRegression()"
      ]
     },
     "execution_count": 4,
     "metadata": {},
     "output_type": "execute_result"
    }
   ],
   "source": [
    "logistic_model = LogisticRegression()\n",
    "logistic_model.fit(df[['gpa']],df['admit'])"
   ]
  },
  {
   "cell_type": "code",
   "execution_count": 5,
   "id": "947e20ce",
   "metadata": {},
   "outputs": [
    {
     "data": {
      "text/plain": [
       "array([[0.66343633, 0.33656367],\n",
       "       [0.53967962, 0.46032038],\n",
       "       [0.84160275, 0.15839725],\n",
       "       ...,\n",
       "       [0.69368514, 0.30631486],\n",
       "       [0.46457162, 0.53542838],\n",
       "       [0.47350995, 0.52649005]])"
      ]
     },
     "execution_count": 5,
     "metadata": {},
     "output_type": "execute_result"
    }
   ],
   "source": [
    "pred_probs = logistic_model.predict_proba(df[['gpa']])\n",
    "pred_probs"
   ]
  },
  {
   "cell_type": "code",
   "execution_count": 6,
   "id": "65d00307",
   "metadata": {},
   "outputs": [
    {
     "data": {
      "text/plain": [
       "<matplotlib.collections.PathCollection at 0x11a3f2d00>"
      ]
     },
     "execution_count": 6,
     "metadata": {},
     "output_type": "execute_result"
    },
    {
     "data": {
      "image/png": "[encoded data removed]",
      "text/plain": [
       "<Figure size 432x288 with 1 Axes>"
      ]
     },
     "metadata": {
      "needs_background": "light"
     },
     "output_type": "display_data"
    }
   ],
   "source": [
    "plt.scatter(df['gpa'],pred_probs[:,1])"
   ]
  },
  {
   "cell_type": "code",
   "execution_count": 7,
   "id": "c2705281",
   "metadata": {},
   "outputs": [
    {
     "data": {
      "text/html": [
       "<div>\n",
       "<style scoped>\n",
       "    .dataframe tbody tr th:only-of-type {\n",
       "        vertical-align: middle;\n",
       "    }\n",
       "\n",
       "    .dataframe tbody tr th {\n",
       "        vertical-align: top;\n",
       "    }\n",
       "\n",
       "    .dataframe thead th {\n",
       "        text-align: right;\n",
       "    }\n",
       "</style>\n",
       "<table border=\"1\" class=\"dataframe\">\n",
       "  <thead>\n",
       "    <tr style=\"text-align: right;\">\n",
       "      <th></th>\n",
       "      <th>admit</th>\n",
       "      <th>gpa</th>\n",
       "      <th>gre</th>\n",
       "      <th>predicted_label</th>\n",
       "    </tr>\n",
       "  </thead>\n",
       "  <tbody>\n",
       "    <tr>\n",
       "      <th>0</th>\n",
       "      <td>0</td>\n",
       "      <td>3.177277</td>\n",
       "      <td>594.102992</td>\n",
       "      <td>0</td>\n",
       "    </tr>\n",
       "    <tr>\n",
       "      <th>1</th>\n",
       "      <td>0</td>\n",
       "      <td>3.412655</td>\n",
       "      <td>631.528607</td>\n",
       "      <td>0</td>\n",
       "    </tr>\n",
       "    <tr>\n",
       "      <th>2</th>\n",
       "      <td>0</td>\n",
       "      <td>2.728097</td>\n",
       "      <td>553.714399</td>\n",
       "      <td>0</td>\n",
       "    </tr>\n",
       "    <tr>\n",
       "      <th>3</th>\n",
       "      <td>0</td>\n",
       "      <td>3.093559</td>\n",
       "      <td>551.089985</td>\n",
       "      <td>0</td>\n",
       "    </tr>\n",
       "    <tr>\n",
       "      <th>4</th>\n",
       "      <td>0</td>\n",
       "      <td>3.141923</td>\n",
       "      <td>537.184894</td>\n",
       "      <td>0</td>\n",
       "    </tr>\n",
       "  </tbody>\n",
       "</table>\n",
       "</div>"
      ],
      "text/plain": [
       "   admit       gpa         gre  predicted_label\n",
       "0      0  3.177277  594.102992                0\n",
       "1      0  3.412655  631.528607                0\n",
       "2      0  2.728097  553.714399                0\n",
       "3      0  3.093559  551.089985                0\n",
       "4      0  3.141923  537.184894                0"
      ]
     },
     "execution_count": 7,
     "metadata": {},
     "output_type": "execute_result"
    },
    {
     "data": {
      "image/png": "[encoded data removed]",
      "text/plain": [
       "<Figure size 432x288 with 1 Axes>"
      ]
     },
     "metadata": {
      "needs_background": "light"
     },
     "output_type": "display_data"
    }
   ],
   "source": [
    "model = LogisticRegression()\n",
    "model.fit(df[['gpa']],df['admit'])\n",
    "labels = model.predict(df[[\"gpa\"]])\n",
    "plt.scatter(df[\"gpa\"],labels)\n",
    "plt.show\n",
    "df['predicted_label'] = labels\n",
    "df.head()"
   ]
  },
  {
   "cell_type": "markdown",
   "id": "2086af6c",
   "metadata": {},
   "source": [
    "## Accuracy"
   ]
  },
  {
   "cell_type": "code",
   "execution_count": 8,
   "id": "5d2de20c",
   "metadata": {},
   "outputs": [
    {
     "data": {
      "text/plain": [
       "0.6847826086956522"
      ]
     },
     "execution_count": 8,
     "metadata": {},
     "output_type": "execute_result"
    }
   ],
   "source": [
    "df['actual_label'] = df['admit']\n",
    "matches = df['actual_label'] == df['predicted_label']\n",
    "correct_predictions = df[matches]\n",
    "correct_predictions.head()\n",
    "accuracy = len(correct_predictions)/len(df)\n",
    "accuracy"
   ]
  },
  {
   "cell_type": "code",
   "execution_count": 9,
   "id": "594c4ded",
   "metadata": {},
   "outputs": [
    {
     "name": "stdout",
     "output_type": "stream",
     "text": [
      "89 352 48 155\n"
     ]
    }
   ],
   "source": [
    "TP_filter = (df['predicted_label'] == 1) & (df['actual_label'] == 1) #true positive\n",
    "TN_filter = (df['predicted_label'] == 0) & (df['actual_label'] == 0) # true negative\n",
    "FP_filter = (df['predicted_label'] == 1) & (df['actual_label'] == 0) #false positive\n",
    "FN_filter = (df['predicted_label'] == 0) & (df['actual_label'] == 1) #false negative\n",
    "\n",
    "TP = len(df[TP_filter])\n",
    "TN = len(df[TN_filter])\n",
    "FP = len(df[FP_filter])\n",
    "FN = len(df[FN_filter])\n",
    "\n",
    "print(TP,TN,FP,FN)"
   ]
  },
  {
   "cell_type": "code",
   "execution_count": 10,
   "id": "a27fbc5f",
   "metadata": {},
   "outputs": [
    {
     "name": "stdout",
     "output_type": "stream",
     "text": [
      "0.88\n",
      "0.36475409836065575\n"
     ]
    }
   ],
   "source": [
    "sensitivity = TP/(TP+FN)\n",
    "specificity = (TN) / (FP + TN)\n",
    "print(specificity)\n",
    "print(sensitivity)\n"
   ]
  }
 ],
 "metadata": {
  "kernelspec": {
   "display_name": "Python 3 (ipykernel)",
   "language": "python",
   "name": "python3"
  },
  "language_info": {
   "codemirror_mode": {
    "name": "ipython",
    "version": 3
   },
   "file_extension": ".py",
   "mimetype": "text/x-python",
   "name": "python",
   "nbconvert_exporter": "python",
   "pygments_lexer": "ipython3",
   "version": "3.9.7"
  }
 },
 "nbformat": 4,
 "nbformat_minor": 5
}
