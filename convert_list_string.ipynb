{
 "cells": [
  {
   "cell_type": "markdown",
   "id": "2b91e2c3",
   "metadata": {},
   "source": [
    "### Convert a list in to a string"
   ]
  },
  {
   "cell_type": "markdown",
   "id": "49424487",
   "metadata": {},
   "source": [
    "####              Method 1"
   ]
  },
  {
   "cell_type": "code",
   "execution_count": 1,
   "id": "f1ca98e3",
   "metadata": {},
   "outputs": [
    {
     "name": "stdout",
     "output_type": "stream",
     "text": [
      "1234567890\n",
      "<class 'str'>\n"
     ]
    }
   ],
   "source": [
    "numbers = [1,2,3,4,5,6,7,8,9,0]\n",
    "string1 = ''\n",
    "for i in numbers:\n",
    "    string1 +=str(i) \n",
    "print(string1)\n",
    "print(type(string1))"
   ]
  },
  {
   "cell_type": "code",
   "execution_count": 2,
   "id": "55380054",
   "metadata": {},
   "outputs": [
    {
     "name": "stdout",
     "output_type": "stream",
     "text": [
      "Jackson\n",
      "<class 'str'>\n"
     ]
    }
   ],
   "source": [
    "letters = ['J','a','c','k','s','o','n']\n",
    "string2 = ''\n",
    "for i in letters:\n",
    "    string2 +=i\n",
    "    \n",
    "print(string2)\n",
    "print(type(string2))"
   ]
  },
  {
   "cell_type": "markdown",
   "id": "5c27bc39",
   "metadata": {},
   "source": [
    "####              Method 2"
   ]
  },
  {
   "cell_type": "code",
   "execution_count": 3,
   "id": "67c5f8b3",
   "metadata": {},
   "outputs": [
    {
     "name": "stdout",
     "output_type": "stream",
     "text": [
      "1234567890\n",
      "<class 'str'>\n"
     ]
    }
   ],
   "source": [
    "str1 = ' '.join([str(num) for num in numbers])\n",
    "str1= str1.replace(\" \",'')\n",
    "print(str1)\n",
    "print(type(str1))"
   ]
  },
  {
   "cell_type": "code",
   "execution_count": 4,
   "id": "a1fd17c7",
   "metadata": {},
   "outputs": [
    {
     "name": "stdout",
     "output_type": "stream",
     "text": [
      "Jackson\n",
      "<class 'str'>\n"
     ]
    }
   ],
   "source": [
    "str2 = ' '.join([str(lett) for lett in letters])\n",
    "str2 = str2.replace(\" \",'')\n",
    "print(str2)\n",
    "print(type(str2))"
   ]
  }
 ],
 "metadata": {
  "kernelspec": {
   "display_name": "Python 3 (ipykernel)",
   "language": "python",
   "name": "python3"
  },
  "language_info": {
   "codemirror_mode": {
    "name": "ipython",
    "version": 3
   },
   "file_extension": ".py",
   "mimetype": "text/x-python",
   "name": "python",
   "nbconvert_exporter": "python",
   "pygments_lexer": "ipython3",
   "version": "3.9.7"
  }
 },
 "nbformat": 4,
 "nbformat_minor": 5
}
